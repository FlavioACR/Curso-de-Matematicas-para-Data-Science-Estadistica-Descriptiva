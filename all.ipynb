{
 "cells": [
  {
   "cell_type": "markdown",
   "source": "# Tipos de Datos:",
   "metadata": {
    "cell_id": "659c75ad1dce4e66a5f8ccbf3585411a",
    "tags": [],
    "deepnote_cell_type": "markdown",
    "deepnote_cell_height": 82
   }
  },
  {
   "cell_type": "markdown",
   "source": "##  Categóricos:\n    Definen una categoria o propiedad.\n    (Genero/Categorías/Peliculas/Método de Pago)\n    * Ordinal\n        Cuando existe una relación de orden entre las categorias\n    * Nominal\n        Si no tiene relación de orden entre las categorias\n\n##  Numéricos:\n    Variables meramente numéricos.\n    (Edad/Altura/Temperatura)\n    * Discreto\n        Datos, concretos y exactos no flotantes. Enteros\n    * Continuos\n        Datos variables y datos float",
   "metadata": {
    "cell_id": "07cc65e5f82f4ab6a3cac1608db5b880",
    "tags": [],
    "owner_user_id": "b9eccfbd-1cc7-4707-9145-a80dea438e25",
    "deepnote_cell_type": "markdown",
    "deepnote_cell_height": 457.5625
   }
  },
  {
   "cell_type": "markdown",
   "source": "",
   "metadata": {
    "cell_id": "8793304877274d94b10052b5c7660a50",
    "tags": [],
    "deepnote_cell_type": "markdown",
    "deepnote_cell_height": 46
   }
  },
  {
   "cell_type": "markdown",
   "source": "![Picture title](image-20220510-151349.png)",
   "metadata": {
    "cell_id": "9464dc74595947df91c1a69ddb8c7dcb",
    "tags": [],
    "deepnote_cell_type": "markdown",
    "deepnote_cell_height": 804.625
   }
  },
  {
   "cell_type": "markdown",
   "source": "",
   "metadata": {
    "cell_id": "7c8e3d4b2015422b8c652d3090f83212",
    "tags": [],
    "deepnote_cell_type": "markdown",
    "deepnote_cell_height": 46
   }
  },
  {
   "cell_type": "markdown",
   "source": "![Picture title](image-20220510-151401.png)",
   "metadata": {
    "cell_id": "064584a9301541a39e456539a4b70f58",
    "tags": [],
    "deepnote_cell_type": "markdown",
    "deepnote_cell_height": 804.625
   }
  },
  {
   "cell_type": "markdown",
   "source": "Estadística descriptiva vs. inferencial\nEstadística descriptiva vs. inferencial\n11:21 min\n\n\nFlujo de trabajo en data science\nFlujo de trabajo en data science\n05:38 min\n\n\nPlan del curso\nPlan del curso\n06:08 min\n\n\nEstadística descriptiva para analítica\n¿Cómo usar Deepnote?\n01:19 min\n\n\nTipos de datos\nTipos de datos\n16:06 min\n\n\nMedidas de tendencia central\nMedidas de tendencia central\n09:47 min\n\n\nMetáfora de Bill Gates en un bar\nMetáfora de Bill Gates en un bar\n17:17 min\n\n\nMedidas de tendencia central en Python\nMedidas de tendencia central en Python\n20:58 min\n\n\nMedidas de dispersión\nMedidas de dispersión\n05:25 min\n\n\nDesviación estándar\nDesviación estándar\n14:29 min\n\n\nMedidas de dispersión en Python\nMedidas de dispersión en Python\n11:14 min\n\n\nExploración visual \nde los datos\nExploración visual de los datos\n08:48 min\n\n\nDiagramas de dispersión en el análisis de datos\nDiagramas de dispersión en el análisis de datos\n12:32 min\n\n\nEstadística en la ingesta de datos\nPipelines de procesamiento para variables numéricas\nPipelines de procesamiento para variables numéricas\n10:54 min\n\n\nTransformación no lineal\nTransformación no lineal\n08:51 min\n\n\nProcesamiento de datos numéricos en Python\nProcesamiento de datos numéricos en Python\n14:55 min\n\n\nPipelines de procesamiento para variables categóricas\nPipelines de procesamiento para variables categóricas\n05:00 min\n\n\nProcesamiento para variables categóricas con Python\nProcesamiento para variables categóricas con Python\n12:58 min\n\n\nCorrelaciones\nCorrelaciones\n09:09 min\n\n\nMatriz de covarianza\nMatriz de covarianza\n13:09 min\n\n\nProyecto de aplicación\nCálculo de valores propios de una matriz\n08:19 min\n\n\nPCA: análisis de componentes principales\nPCA: análisis de componentes principales\n14:26 min\n\n\nReducción de dimensionalidad con PCA\nReducción de dimensionalidad con PCA\n15:42 min",
   "metadata": {
    "cell_id": "937a8b28cec540668ef395222d57df3d",
    "tags": [],
    "deepnote_cell_type": "markdown",
    "deepnote_cell_height": 852.984375
   }
  },
  {
   "cell_type": "markdown",
   "source": "Estadística descriptiva vs. inferencial\nEstadística descriptiva vs. inferencial\n11:21 min\n\n\nFlujo de trabajo en data science\nFlujo de trabajo en data science\n05:38 min\n\n\nPlan del curso\nPlan del curso\n06:08 min\n\n\nEstadística descriptiva para analítica\n¿Cómo usar Deepnote?\n01:19 min\n\n\nTipos de datos\nTipos de datos\n16:06 min\n\n\nMedidas de tendencia central\nMedidas de tendencia central\n09:47 min\n\n\nMetáfora de Bill Gates en un bar\nMetáfora de Bill Gates en un bar\n17:17 min\n\n\nMedidas de tendencia central en Python\nMedidas de tendencia central en Python\n20:58 min\n\n\nMedidas de dispersión\nMedidas de dispersión\n05:25 min\n\n\nDesviación estándar\nDesviación estándar\n14:29 min\n\n\nMedidas de dispersión en Python\nMedidas de dispersión en Python\n11:14 min\n\n\nExploración visual \nde los datos\nExploración visual de los datos\n08:48 min\n\n\nDiagramas de dispersión en el análisis de datos\nDiagramas de dispersión en el análisis de datos\n12:32 min\n\n\nEstadística en la ingesta de datos\nPipelines de procesamiento para variables numéricas\nPipelines de procesamiento para variables numéricas\n10:54 min\n\n\nTransformación no lineal\nTransformación no lineal\n08:51 min\n\n\nProcesamiento de datos numéricos en Python\nProcesamiento de datos numéricos en Python\n14:55 min\n\n\nPipelines de procesamiento para variables categóricas\nPipelines de procesamiento para variables categóricas\n05:00 min\n\n\nProcesamiento para variables categóricas con Python\nProcesamiento para variables categóricas con Python\n12:58 min\n\n\nCorrelaciones\nCorrelaciones\n09:09 min\n\n\nMatriz de covarianza\nMatriz de covarianza\n13:09 min\n\n\nProyecto de aplicación\nCálculo de valores propios de una matriz\n08:19 min\n\n\nPCA: análisis de componentes principales\nPCA: análisis de componentes principales\n14:26 min\n\n\nReducción de dimensionalidad con PCA\nReducción de dimensionalidad con PCA\n15:42 min",
   "metadata": {
    "cell_id": "6ebda4fcea5b4d8fb8a1d32dfb4d7111",
    "tags": [],
    "deepnote_cell_type": "markdown",
    "deepnote_cell_height": 852.984375
   }
  },
  {
   "cell_type": "markdown",
   "source": "Estadística descriptiva vs. inferencial\nEstadística descriptiva vs. inferencial\n11:21 min\n\n\nFlujo de trabajo en data science\nFlujo de trabajo en data science\n05:38 min\n\n\nPlan del curso\nPlan del curso\n06:08 min\n\n\nEstadística descriptiva para analítica\n¿Cómo usar Deepnote?\n01:19 min\n\n\nTipos de datos\nTipos de datos\n16:06 min\n\n\nMedidas de tendencia central\nMedidas de tendencia central\n09:47 min\n\n\nMetáfora de Bill Gates en un bar\nMetáfora de Bill Gates en un bar\n17:17 min\n\n\nMedidas de tendencia central en Python\nMedidas de tendencia central en Python\n20:58 min\n\n\nMedidas de dispersión\nMedidas de dispersión\n05:25 min\n\n\nDesviación estándar\nDesviación estándar\n14:29 min\n\n\n\nMedidas de dispersión en Python\nMedidas de dispersión en Python\n11:14 min\n\n\nExploración visual \nde los datos\nExploración visual de los datos\n08:48 min\n\n\nDiagramas de dispersión en el análisis de datos\nDiagramas de dispersión en el análisis de datos\n12:32 min\n\n\nEstadística en la ingesta de datos\nPipelines de procesamiento para variables numéricas\nPipelines de procesamiento para variables numéricas\n10:54 min\n\n\nTransformación no lineal\nTransformación no lineal\n08:51 min\n\n\nProcesamiento de datos numéricos en Python\nProcesamiento de datos numéricos en Python\n14:55 min\n\n\nPipelines de procesamiento para variables categóricas\nPipelines de procesamiento para variables categóricas\n05:00 min\n\n\nProcesamiento para variables categóricas con Python\nProcesamiento para variables categóricas con Python\n12:58 min\n\n\nCorrelaciones\nCorrelaciones\n09:09 min\n\n\nMatriz de covarianza\nMatriz de covarianza\n13:09 min\n\n\nProyecto de aplicación\nCálculo de valores propios de una matriz\n08:19 min\n\n\nPCA: análisis de componentes principales\nPCA: análisis de componentes principales\n14:26 min\n\n\nReducción de dimensionalidad con PCA\nReducción de dimensionalidad con PCA\n15:42 min",
   "metadata": {
    "cell_id": "0d2ac53cec464de79e27754e612ad161",
    "tags": [],
    "deepnote_cell_type": "markdown",
    "deepnote_cell_height": 852.984375
   }
  },
  {
   "cell_type": "markdown",
   "source": "",
   "metadata": {
    "cell_id": "fe63c45aaea94d51ab903980b21b193b",
    "tags": [],
    "owner_user_id": "46fc49a6-85dd-4f3e-a856-828c508d5f95",
    "deepnote_cell_type": "markdown",
    "deepnote_cell_height": 46
   }
  },
  {
   "cell_type": "markdown",
   "source": "<a style='text-decoration:none;line-height:16px;display:flex;color:#5B5B62;padding:10px;justify-content:end;' href='https://deepnote.com?utm_source=created-in-deepnote-cell&projectId=0b46b1de-a773-4955-a442-5059aa35fe3b' target=\"_blank\">\n<img alt='Created in deepnote.com' style='display:inline;max-height:16px;margin:0px;margin-right:7.5px;' src='data:image/svg+xml;base64,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' > </img>\nCreated in <span style='font-weight:600;margin-left:4px;'>Deepnote</span></a>",
   "metadata": {
    "tags": [],
    "created_in_deepnote_cell": true,
    "deepnote_cell_type": "markdown"
   }
  }
 ],
 "nbformat": 4,
 "nbformat_minor": 2,
 "metadata": {
  "orig_nbformat": 2,
  "deepnote": {},
  "deepnote_notebook_id": "1a0afd16-84bd-4efd-ae4a-27f5a42fc1a6",
  "deepnote_execution_queue": []
 }
}