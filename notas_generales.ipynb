{
 "cells": [
  {
   "cell_type": "code",
   "metadata": {
    "tags": [],
    "cell_id": "b79877b2-facc-48fc-a3d3-9dd364faff9d",
    "deepnote_cell_type": "code",
    "deepnote_cell_height": 66
   },
   "source": "# Start writing code here...",
   "execution_count": null,
   "outputs": []
  },
  {
   "cell_type": "markdown",
   "source": "# Estadisticas:\n* Descriptiva: Resumir historial deportivo. ( Se trata de resumir la información)\n* Inferencial: Predecir desempeño futuro del jugador. (Trata de deducir posibilidades predecir)\n\n¿Puedes mentir con la estadística?\n* Depende de la definición del objetivo 'Ser el mejor jugador'\n* No hay una definición objetiva.\n* Los diferentes estadísticos descriptivos dan nociones diferentes sobre los mismo datos.\n\nRecomendación de libro: Naked Statics\n\n¿Por qué aprender estadística ?\n* Para resumir grandes cantidades de información\n* Para la toma de desciciones buenas o malas\n* Responder preguntas de alta relevancia\n* Reconocer patrones en los datos\n* Descubrir a quienes usasn estas herramientas con fines nefastos.\n",
   "metadata": {
    "cell_id": "c2ef8ec4c4da4b7fb6f59eb5de125c55",
    "tags": [],
    "deepnote_cell_type": "markdown",
    "deepnote_cell_height": 494.078125
   }
  },
  {
   "cell_type": "markdown",
   "source": "# Flujo de Trabajo de Data Science:\n",
   "metadata": {
    "cell_id": "d0db2f67c16342b288410f97cdb15461",
    "tags": [],
    "deepnote_cell_type": "markdown",
    "deepnote_cell_height": 82
   }
  },
  {
   "cell_type": "markdown",
   "source": "![Picture title](image-20220426-150436.png)",
   "metadata": {
    "cell_id": "d0e436a3f9ba417b9d6ed8d35a37c48f",
    "tags": [],
    "deepnote_cell_type": "markdown",
    "deepnote_cell_height": 92.390625
   }
  },
  {
   "cell_type": "markdown",
   "source": "## Notas flujo:\n* Data Ingestion & Data Validatios (Preprocesamiento): \n    * Identificar los datos en un dataset:\n        * Cuales son los datos con los que se trabajan\n        \n    * Cual es el flujo de procesamiento (Transformaciones necesarias para los datos):\n        * Definir el flujeo de procesamiento\n        \n\n* Data Preparation & Model Training:\n    * Análisis exploratorio de los datos \n    * Estadistica descriptiva\n    * Correlaciones entre los datos \n    * Reducción de datos en base a las correlaciones\n* Probabilidad e Inferncia:\n    * Evaluación del Modelo\n    * Test de Hipótesis\n        * Modelo en producción\n        * Interacción usuario final.",
   "metadata": {
    "cell_id": "5a28823e6ccf4527bc422310ffe7ab37",
    "tags": [],
    "owner_user_id": "b9eccfbd-1cc7-4707-9145-a80dea438e25",
    "deepnote_cell_type": "markdown",
    "deepnote_cell_height": 543.859375
   }
  },
  {
   "cell_type": "markdown",
   "source": "# Plan del curso\n¿Cuál es diferenciador de este curso?\n\nSabemos y tenemos bien claro que la estadística descriptiva es súper común, pero el diferenciador más grande de este curso es que estamos contextualizando la estadística descriptiva específicamente para Ciencia de Datos. \nNo solo vamos a entender las fórmulas matemáticas si no el contexto de la estadística para descubrir todas las caras que tiene.\n\n¿Cuáles serán los puntos específicos que vamos a tratar en este curso?\n",
   "metadata": {
    "cell_id": "3e0bf857ec71481ea3565907dc78b2bf",
    "tags": [],
    "deepnote_cell_type": "markdown",
    "deepnote_cell_height": 215.5625
   }
  },
  {
   "cell_type": "markdown",
   "source": "\nPrimera parte del curso: Vamos a abordar cuales son los elementos de estadística la descriptiva para la ingesta y el procesamiento de los datos.\n",
   "metadata": {
    "cell_id": "d834de0e60584742a0117ca5deb7804f",
    "tags": [],
    "deepnote_cell_type": "markdown",
    "deepnote_cell_height": 52.390625
   }
  },
  {
   "cell_type": "markdown",
   "source": "![Picture title](image-20220426-151631.png)",
   "metadata": {
    "cell_id": "35e2e2f59f6449a6aa2d84950dc40635",
    "tags": [],
    "owner_user_id": "46fc49a6-85dd-4f3e-a856-828c508d5f95",
    "deepnote_cell_type": "markdown",
    "deepnote_cell_height": 144.390625
   }
  },
  {
   "cell_type": "markdown",
   "source": "Segunda parte del curso: Vamos a ver análisis exploratorio de los datos, identificar correlaciones de los datos, abordaremos si a partir de eso podemos reducir el conjunto de datos que necesitamos para un modelo, por ejemplo. Entonces, el objetivo es abordar los estadísticos para exploración y analítica.",
   "metadata": {
    "cell_id": "2edf0614af31473c965a9a6a113f5c43",
    "tags": [],
    "deepnote_cell_type": "markdown",
    "deepnote_cell_height": 74.78125
   }
  },
  {
   "cell_type": "markdown",
   "source": "![Picture title](image-20220426-151602.png)\n",
   "metadata": {
    "cell_id": "fe61de06d91a4f43952a932f6fd936a9",
    "tags": [],
    "deepnote_cell_type": "markdown",
    "deepnote_cell_height": 92.390625
   }
  },
  {
   "cell_type": "markdown",
   "source": "<a style='text-decoration:none;line-height:16px;display:flex;color:#5B5B62;padding:10px;justify-content:end;' href='https://deepnote.com?utm_source=created-in-deepnote-cell&projectId=0b46b1de-a773-4955-a442-5059aa35fe3b' target=\"_blank\">\n<img alt='Created in deepnote.com' style='display:inline;max-height:16px;margin:0px;margin-right:7.5px;' src='data:image/svg+xml;base64,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' > </img>\nCreated in <span style='font-weight:600;margin-left:4px;'>Deepnote</span></a>",
   "metadata": {
    "tags": [],
    "created_in_deepnote_cell": true,
    "deepnote_cell_type": "markdown"
   }
  }
 ],
 "nbformat": 4,
 "nbformat_minor": 2,
 "metadata": {
  "orig_nbformat": 2,
  "deepnote": {},
  "deepnote_notebook_id": "84ac9625-85e0-43b0-bbd8-8e94d4272dbd",
  "deepnote_execution_queue": []
 }
}