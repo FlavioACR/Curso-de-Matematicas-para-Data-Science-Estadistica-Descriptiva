{
 "cells": [
  {
   "cell_type": "markdown",
   "source": "# ESCALAMIENTO LINEAL\n\n¿ Por qué usarlos?\n* Normalización de datos, en modelos de machine learning eficientes ene el rango[-1,1]\n\n¿Hay diferentes tipos?\n\nmax-min,Clipping, Z-score, Winsorizing, etc-- \n\n¿Cuándo usarlos?\n\nData simétrica o uniformemente distribuida.\n",
   "metadata": {
    "cell_id": "b9c2d8b378a44ccca273bf0b65209d4b",
    "tags": [],
    "deepnote_cell_type": "markdown",
    "deepnote_cell_height": 302.390625
   }
  },
  {
   "cell_type": "code",
   "source": "# Masimos y minimos de distribución:\nvalors_escalado = x\nxs = 2x-min-max / max-min",
   "metadata": {
    "cell_id": "755086173b814e778a9b61f3ade852b4",
    "tags": [],
    "deepnote_to_be_reexecuted": false,
    "source_hash": "b623e53d",
    "execution_start": 1651524075377,
    "execution_millis": 0,
    "deepnote_cell_type": "code",
    "deepnote_cell_height": 117.15625
   },
   "outputs": [],
   "execution_count": 1
  },
  {
   "cell_type": "code",
   "source": "# Clipping:\n# Muy usado no recomendado\n\n'''Se toma la distribución, con ella se cortan los datos dentro de dos valores limites\nasumiento que dentro son iguales y por fuera son no utiles o fuera de rango\n\nSe establecen limites en el rango:\n2 y 4\n** Lo que hace en truncar los valores e introducirlos dentro del rango:\nEjemplo: \nValores = \n3.8 = 3.8\n  6 = 4\n  1 = 2\n\nLos valores de los extremos pueden ser aleatorios o se pueden usar con base en los\npercentiles, cuando se usan se llamas Winsorizing.\n\n'''\n\n\n",
   "metadata": {
    "cell_id": "44833d3266444e14ae951d7a20c48191",
    "tags": [],
    "deepnote_cell_type": "code",
    "deepnote_cell_height": 444.15625
   },
   "outputs": [],
   "execution_count": null
  },
  {
   "cell_type": "code",
   "source": "# Z-Score:\n\n'''\nUn conjunto de datos:\nLos valores se calculan asi:\nvalor original - el promedio / desviacion estandar\n\nSe transforma la distrución de promedio en cero y una desviación estandar en uno\n'''",
   "metadata": {
    "cell_id": "ef5e6fd927f843c9b17630b9ccf1149f",
    "tags": [],
    "owner_user_id": "46fc49a6-85dd-4f3e-a856-828c508d5f95",
    "deepnote_cell_type": "code",
    "deepnote_cell_height": 210.171875
   },
   "outputs": [],
   "execution_count": null
  },
  {
   "cell_type": "markdown",
   "source": "<a style='text-decoration:none;line-height:16px;display:flex;color:#5B5B62;padding:10px;justify-content:end;' href='https://deepnote.com?utm_source=created-in-deepnote-cell&projectId=0b46b1de-a773-4955-a442-5059aa35fe3b' target=\"_blank\">\n<img alt='Created in deepnote.com' style='display:inline;max-height:16px;margin:0px;margin-right:7.5px;' src='data:image/svg+xml;base64,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' > </img>\nCreated in <span style='font-weight:600;margin-left:4px;'>Deepnote</span></a>",
   "metadata": {
    "tags": [],
    "created_in_deepnote_cell": true,
    "deepnote_cell_type": "markdown"
   }
  }
 ],
 "nbformat": 4,
 "nbformat_minor": 2,
 "metadata": {
  "orig_nbformat": 2,
  "deepnote": {},
  "deepnote_notebook_id": "31dec80d-2b38-4c3e-81e5-e54c9a817ae8",
  "deepnote_execution_queue": []
 }
}